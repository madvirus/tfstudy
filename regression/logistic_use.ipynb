{
 "cells": [
  {
   "cell_type": "code",
   "execution_count": 1,
   "metadata": {
    "collapsed": false
   },
   "outputs": [],
   "source": [
    "import tensorflow as tf\n",
    "\n",
    "X = tf.placeholder(tf.float32)\n",
    "Y = tf.placeholder(tf.float32)\n",
    "\n",
    "W = tf.Variable([[-0.69001538, 0.07054905, -1.43649220, -0.09584059, 3.13020134]])\n",
    "\n",
    "h = tf.matmul(W, X)\n",
    "hypothesis = tf.sigmoid(h)\n",
    "\n",
    "init = tf.initialize_all_variables()\n",
    "\n",
    "sess = tf.Session()\n",
    "sess.run(init)\n"
   ]
  },
  {
   "cell_type": "code",
   "execution_count": 2,
   "metadata": {
    "collapsed": true
   },
   "outputs": [],
   "source": [
    "import numpy as np\n",
    "\n",
    "xy = np.loadtxt('logistic_train2.txt', unpack=True, dtype='float32')\n",
    "x_data = xy[0:-1]\n",
    "y_data = xy[-1]\n"
   ]
  },
  {
   "cell_type": "code",
   "execution_count": 3,
   "metadata": {
    "collapsed": false
   },
   "outputs": [
    {
     "name": "stdout",
     "output_type": "stream",
     "text": [
      "[ 0.03936708  0.05057344  0.03749811  0.02895017  0.0409053   0.06721552\n",
      "  0.04271822  0.09133104  0.02559928  0.6152215   0.04233     0.75225914\n",
      "  0.50778949  0.01649502  0.04089664  0.05749305  0.82548463  0.14580065\n",
      "  0.66062975  0.05858457]\n",
      "[ 0.  0.  0.  0.  0.  0.  0.  0.  0.  1.  0.  0.  1.  0.  0.  0.  1.  0.\n",
      "  1.  0.]\n"
     ]
    }
   ],
   "source": [
    "guess = sess.run(hypothesis, feed_dict={X: x_data})\n",
    "print(guess[0])\n",
    "print(y_data)\n"
   ]
  },
  {
   "cell_type": "code",
   "execution_count": 16,
   "metadata": {
    "collapsed": false
   },
   "outputs": [],
   "source": [
    "guess_y = np.transpose(np.vstack((guess[0], [y_data])) )"
   ]
  },
  {
   "cell_type": "code",
   "execution_count": 19,
   "metadata": {
    "collapsed": false
   },
   "outputs": [
    {
     "name": "stdout",
     "output_type": "stream",
     "text": [
      "0.0393671 \t 0.0\n",
      "0.0505734 \t 0.0\n",
      "0.0374981 \t 0.0\n",
      "0.0289502 \t 0.0\n",
      "0.0409053 \t 0.0\n",
      "0.0672155 \t 0.0\n",
      "0.0427182 \t 0.0\n",
      "0.091331 \t 0.0\n",
      "0.0255993 \t 0.0\n",
      "0.615222 \t 1.0\n",
      "0.04233 \t 0.0\n",
      "0.752259 \t 0.0\n",
      "0.507789 \t 1.0\n",
      "0.016495 \t 0.0\n",
      "0.0408966 \t 0.0\n",
      "0.057493 \t 0.0\n",
      "0.825485 \t 1.0\n",
      "0.145801 \t 0.0\n",
      "0.66063 \t 1.0\n",
      "0.0585846 \t 0.0\n"
     ]
    }
   ],
   "source": [
    "for gy in guess_y:\n",
    "    print(gy[0] , '\\t',  gy[1])"
   ]
  },
  {
   "cell_type": "code",
   "execution_count": null,
   "metadata": {
    "collapsed": true
   },
   "outputs": [],
   "source": []
  }
 ],
 "metadata": {
  "kernelspec": {
   "display_name": "Python 3",
   "language": "python",
   "name": "python3"
  },
  "language_info": {
   "codemirror_mode": {
    "name": "ipython",
    "version": 3
   },
   "file_extension": ".py",
   "mimetype": "text/x-python",
   "name": "python",
   "nbconvert_exporter": "python",
   "pygments_lexer": "ipython3",
   "version": "3.5.2"
  }
 },
 "nbformat": 4,
 "nbformat_minor": 1
}
