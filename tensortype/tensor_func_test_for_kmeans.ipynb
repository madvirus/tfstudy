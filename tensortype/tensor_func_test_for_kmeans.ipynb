{
 "cells": [
  {
   "cell_type": "code",
   "execution_count": 1,
   "metadata": {
    "collapsed": false
   },
   "outputs": [
    {
     "data": {
      "text/plain": [
       "TensorShape([Dimension(10)])"
      ]
     },
     "execution_count": 1,
     "metadata": {},
     "output_type": "execute_result"
    }
   ],
   "source": [
    "import tensorflow as tf\n",
    "import numpy as np\n",
    "\n",
    "vectors = tf.constant([10, 11, 12, 10, 11, 12, 10, 11, 12, 13], dtype=tf.float32)\n",
    "assignments = tf.constant([0, 1, 2, 0, 1, 2, 0, 1, 2, 3], dtype=\"float32\")\n",
    "\n",
    "assignments.get_shape()"
   ]
  },
  {
   "cell_type": "code",
   "execution_count": 2,
   "metadata": {
    "collapsed": false
   },
   "outputs": [],
   "source": [
    "eq = tf.equal(assignments, 1)\n",
    "wh = tf.where(eq)\n",
    "idx = tf.reshape(wh, [1, -1])\n",
    "gathered = tf.gather(vectors, idx)"
   ]
  },
  {
   "cell_type": "code",
   "execution_count": 4,
   "metadata": {
    "collapsed": false
   },
   "outputs": [
    {
     "name": "stdout",
     "output_type": "stream",
     "text": [
      "equals [False  True False False  True False False  True False False]\n",
      "where [[1]\n",
      " [4]\n",
      " [7]]\n",
      "idx [[1 4 7]]\n",
      "gahtered [[ 11.  11.  11.]]\n"
     ]
    }
   ],
   "source": [
    "sess = tf.Session()\n",
    "sess.run(gathered)\n",
    "print('equals', sess.run(eq))\n",
    "print('where', sess.run(wh))\n",
    "print('idx', sess.run(idx))\n",
    "print('gahtered', sess.run(gathered))"
   ]
  },
  {
   "cell_type": "code",
   "execution_count": null,
   "metadata": {
    "collapsed": true
   },
   "outputs": [],
   "source": []
  }
 ],
 "metadata": {
  "kernelspec": {
   "display_name": "Python 3",
   "language": "python",
   "name": "python3"
  },
  "language_info": {
   "codemirror_mode": {
    "name": "ipython",
    "version": 3
   },
   "file_extension": ".py",
   "mimetype": "text/x-python",
   "name": "python",
   "nbconvert_exporter": "python",
   "pygments_lexer": "ipython3",
   "version": "3.5.2"
  }
 },
 "nbformat": 4,
 "nbformat_minor": 1
}
